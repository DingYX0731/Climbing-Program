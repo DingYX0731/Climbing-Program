{
 "cells": [
  {
   "cell_type": "code",
   "execution_count": 9,
   "metadata": {},
   "outputs": [],
   "source": [
    "import numpy as np"
   ]
  },
  {
   "cell_type": "code",
   "execution_count": 13,
   "metadata": {},
   "outputs": [],
   "source": [
    "data = np.load('result.npz', allow_pickle=True)\n",
    "workday_data = np.load('workday_result.npz')\n",
    "holiday_data = np.load('holiday_result.npz')"
   ]
  },
  {
   "cell_type": "code",
   "execution_count": 14,
   "metadata": {},
   "outputs": [
    {
     "data": {
      "text/plain": [
       "['y_true_workday',\n",
       " 'y_pred_workday',\n",
       " 'y_true_holiday',\n",
       " 'y_pred_holiday',\n",
       " 'y_true',\n",
       " 'y_true_c0',\n",
       " 'y_true_c1',\n",
       " 'y_true_c2',\n",
       " 'y_pred',\n",
       " 'y_pred_c0',\n",
       " 'y_pred_c1',\n",
       " 'y_pred_c2',\n",
       " 'test_result']"
      ]
     },
     "execution_count": 14,
     "metadata": {},
     "output_type": "execute_result"
    }
   ],
   "source": [
    "data.files"
   ]
  },
  {
   "cell_type": "code",
   "execution_count": 15,
   "metadata": {},
   "outputs": [
    {
     "data": {
      "text/plain": [
       "array({'mae': 4.810447692871094, 'mape': 0.22719122469425201, 'mae_workday': 4.634543418884277, 'mape_workday': 0.2034144401550293, 'mae_holiday': 4.966114521026611, 'mape_holiday': 0.22738972306251526, 'mae_c0': 2.8361499309539795, 'mape_c0': 0.2347256988286972, 'mae_c1': 6.355436325073242, 'mape_c1': 0.20879028737545013, 'mae_c2': 4.602822780609131, 'mape_c2': 0.23606400191783905},\n",
       "      dtype=object)"
      ]
     },
     "execution_count": 15,
     "metadata": {},
     "output_type": "execute_result"
    }
   ],
   "source": [
    "data['test_result']"
   ]
  },
  {
   "cell_type": "code",
   "execution_count": 7,
   "metadata": {},
   "outputs": [
    {
     "data": {
      "text/plain": [
       "array([[4.63454342, 0.20341444]])"
      ]
     },
     "execution_count": 7,
     "metadata": {},
     "output_type": "execute_result"
    }
   ],
   "source": [
    "workday_data['test_result']"
   ]
  },
  {
   "cell_type": "code",
   "execution_count": 8,
   "metadata": {},
   "outputs": [
    {
     "data": {
      "text/plain": [
       "array([[4.96611452, 0.22738972]])"
      ]
     },
     "execution_count": 8,
     "metadata": {},
     "output_type": "execute_result"
    }
   ],
   "source": [
    "holiday_data['test_result']"
   ]
  }
 ],
 "metadata": {
  "kernelspec": {
   "display_name": "dgl",
   "language": "python",
   "name": "python3"
  },
  "language_info": {
   "codemirror_mode": {
    "name": "ipython",
    "version": 3
   },
   "file_extension": ".py",
   "mimetype": "text/x-python",
   "name": "python",
   "nbconvert_exporter": "python",
   "pygments_lexer": "ipython3",
   "version": "3.9.18"
  }
 },
 "nbformat": 4,
 "nbformat_minor": 2
}
